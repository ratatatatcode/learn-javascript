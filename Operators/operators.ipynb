{
 "cells": [
  {
   "cell_type": "markdown",
   "metadata": {},
   "source": [
    "For reference only:<br>\n",
    "Arithmetic Operators\n",
    "\n",
    "Assignment Operators\n",
    "\n",
    "Comparison Operators\n",
    "\n",
    "String Operators\n",
    "\n",
    "Logical Operators\n",
    "\n",
    "Bitwise Operators\n",
    "\n",
    "Ternary Operators\n",
    "\n",
    "Type Operators"
   ]
  }
 ],
 "metadata": {
  "language_info": {
   "name": "python"
  }
 },
 "nbformat": 4,
 "nbformat_minor": 2
}
