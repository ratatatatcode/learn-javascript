{
 "cells": [
  {
   "cell_type": "markdown",
   "metadata": {},
   "source": [
    "For reference only:<br>\n",
    "While Loop\n",
    "\n",
    "Do While Loop\n",
    "\n",
    "For Loop\n",
    "\n",
    "For in loop\n",
    "\n",
    "For of loop\n",
    "\n",
    "For each loop"
   ]
  }
 ],
 "metadata": {
  "language_info": {
   "name": "python"
  }
 },
 "nbformat": 4,
 "nbformat_minor": 2
}
