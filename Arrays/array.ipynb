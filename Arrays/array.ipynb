{
 "cells": [
  {
   "cell_type": "markdown",
   "metadata": {},
   "source": [
    "For reference only:<br>\n",
    "Linear Array <- one-dimensional array\n",
    "\n",
    "2D Array\n",
    "\n",
    "Multi-dimensional array\n",
    "\n",
    "Methods"
   ]
  }
 ],
 "metadata": {
  "language_info": {
   "name": "python"
  }
 },
 "nbformat": 4,
 "nbformat_minor": 2
}
