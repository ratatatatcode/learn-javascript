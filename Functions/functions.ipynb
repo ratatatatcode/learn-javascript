{
 "cells": [
  {
   "cell_type": "markdown",
   "metadata": {},
   "source": [
    "For reference only:<br>\n",
    "Function\n",
    "\n",
    "const <- new function\n"
   ]
  }
 ],
 "metadata": {
  "language_info": {
   "name": "python"
  }
 },
 "nbformat": 4,
 "nbformat_minor": 2
}
