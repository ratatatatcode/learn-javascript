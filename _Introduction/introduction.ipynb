{
 "cells": [
  {
   "cell_type": "markdown",
   "metadata": {},
   "source": [
    "For reference only:<br>\n",
    "What is JavaScript?\n",
    "\n",
    "Data Types\n",
    "\n",
    "Typing Case\n",
    "\n",
    "Comments\n",
    "\n",
    "Variables\n",
    "\n",
    "Array <- basic example\n",
    "\n",
    "Loop <- basic example\n",
    "\n",
    "Function <- basic example\n",
    "\n",
    "Object <- basic example"
   ]
  }
 ],
 "metadata": {
  "kernelspec": {
   "display_name": "Deno",
   "language": "typescript",
   "name": "deno"
  },
  "language_info": {
   "codemirror_mode": "typescript",
   "file_extension": ".ts",
   "mimetype": "text/x.typescript",
   "name": "typescript",
   "nbconvert_exporter": "script",
   "pygments_lexer": "typescript",
   "version": "5.6.2"
  }
 },
 "nbformat": 4,
 "nbformat_minor": 2
}
